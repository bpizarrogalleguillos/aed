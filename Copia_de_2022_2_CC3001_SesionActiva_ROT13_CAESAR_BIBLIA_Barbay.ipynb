{
  "nbformat": 4,
  "nbformat_minor": 0,
  "metadata": {
    "colab": {
      "name": "Copia de 2022-2_CC3001_SesionActiva_ROT13_CAESAR_BIBLIA_Barbay.ipynb",
      "provenance": [],
      "collapsed_sections": [
        "jbGTgr_lRz25",
        "nRaH8ZR_Yava",
        "6BFY9APRbR0K",
        "ZOjp1f2JZtTl",
        "UgCwryS_1UvV",
        "yvYE2B-KaDQS",
        "tCdEr3sodCPZ",
        "hY_qYLv8dCPb",
        "MwdDVJn9dp5f",
        "_6Eadgt6a23h",
        "PdZeX0JSmfv2",
        "BzqLJTY2mqMo",
        "DzH1NZklqy0y",
        "8d-lLRj7YghN",
        "TtueJqiEbjWc",
        "EWxqjRbf94EK",
        "-OJeGvgI5te9",
        "jzCRp_jQ92NN"
      ],
      "include_colab_link": true
    },
    "kernelspec": {
      "name": "python3",
      "display_name": "Python 3"
    }
  },
  "cells": [
    {
      "cell_type": "markdown",
      "metadata": {
        "id": "view-in-github",
        "colab_type": "text"
      },
      "source": [
        "<a href=\"https://colab.research.google.com/github/bpizarrogalleguillos/aed/blob/main/Copia_de_2022_2_CC3001_SesionActiva_ROT13_CAESAR_BIBLIA_Barbay.ipynb\" target=\"_parent\"><img src=\"https://colab.research.google.com/assets/colab-badge.svg\" alt=\"Open In Colab\"/></a>"
      ]
    },
    {
      "cell_type": "markdown",
      "metadata": {
        "id": "jbGTgr_lRz25"
      },
      "source": [
        "# CC3001 2022-2 - Sesion Activa: ROT13, CAESAR e BIBLIA -- NOMBRE DEL ALUMNO\n",
        "\n",
        "---\n",
        "\n"
      ]
    },
    {
      "cell_type": "markdown",
      "source": [
        "\n",
        "\n",
        "\n",
        "En esta sesión, ustedes programarán funciones recursivas y iterativas para transformar textos \"claros\" en versión \"encryptadas\".\n",
        "\n",
        "Al terminar la sesión exitosamente, usted debería \n",
        "1. entender mejor la analogia entre programación iterativa y recursiva;\n",
        "1. saber usar la función de \"modulo\" `%` en Python y\n",
        "1. saber manejar mejor objetos de tipo \"string\" en Python.\n"
      ],
      "metadata": {
        "id": "shGWx5JEm7G0"
      }
    },
    {
      "cell_type": "markdown",
      "metadata": {
        "id": "Airlyusam2BK"
      },
      "source": [
        "---\n",
        "\n",
        "Para realizar la sesión, deben hacer una copia de este archivo/colab, reemplazar `Nombre del alumno` por su nombre en el nombre del archivo y título del documento, y llenar los vacíos con sus explicaciones, sus implementaciones y sus pruebas para las funciones pedidas.\n"
      ]
    },
    {
      "cell_type": "markdown",
      "source": [
        "---\n",
        "# PREAMBULO\n",
        "\n"
      ],
      "metadata": {
        "id": "nRaH8ZR_Yava"
      }
    },
    {
      "cell_type": "markdown",
      "metadata": {
        "id": "KRx0MO7saLoU"
      },
      "source": [
        "## Codificación de letras en un computador\n"
      ]
    },
    {
      "cell_type": "markdown",
      "source": [
        "\n",
        "Para entender cómo funciona el programa, primero hay que entender cómo un computador almacena los simbolos de un texto. Cada dibujo que un humano lee, como la letra `A`, **no** está representado como una letra en el computador, sino que como un número, por ejemplo en el caso de la letra `a` es el número 97, la letra `b` es el número 98, y así sucesivamente hasta la letra 'z' que es el número 122.\n",
        "\n",
        "En *python*, \n",
        "- la función *ord* permite traducir un carácter \"*c*\" en su número correspondiente \"*ord(c)*\", y \n",
        "- la función *chr* permite traducir un número \"*n*\" en su carácter correspondiente \"*chr(n)*\":\n",
        "\n"
      ],
      "metadata": {
        "id": "-_dixJeXb_mh"
      }
    },
    {
      "cell_type": "code",
      "metadata": {
        "id": "9KDOVTHGalfi",
        "colab": {
          "base_uri": "https://localhost:8080/"
        },
        "outputId": "4df9ca05-a13e-439f-eb9c-c80ff4b84016"
      },
      "source": [
        "ord('a')"
      ],
      "execution_count": null,
      "outputs": [
        {
          "output_type": "execute_result",
          "data": {
            "text/plain": [
              "97"
            ]
          },
          "metadata": {
            "tags": []
          },
          "execution_count": 1
        }
      ]
    },
    {
      "cell_type": "code",
      "metadata": {
        "id": "0XJ4HxvJbG9z",
        "colab": {
          "base_uri": "https://localhost:8080/"
        },
        "outputId": "79720650-22ab-484c-b8f3-5755165f306f"
      },
      "source": [
        "chr(97)"
      ],
      "execution_count": null,
      "outputs": [
        {
          "output_type": "execute_result",
          "data": {
            "application/vnd.google.colaboratory.intrinsic+json": {
              "type": "string"
            },
            "text/plain": [
              "'a'"
            ]
          },
          "metadata": {
            "tags": []
          },
          "execution_count": 2
        }
      ]
    },
    {
      "cell_type": "code",
      "source": [
        "ord('A')"
      ],
      "metadata": {
        "colab": {
          "base_uri": "https://localhost:8080/"
        },
        "id": "NCDn1aIFJXQz",
        "outputId": "9ac0c963-7e7d-428a-923b-a5949c7ab9d8"
      },
      "execution_count": null,
      "outputs": [
        {
          "output_type": "execute_result",
          "data": {
            "text/plain": [
              "65"
            ]
          },
          "metadata": {},
          "execution_count": 1
        }
      ]
    },
    {
      "cell_type": "code",
      "source": [
        "chr(65)"
      ],
      "metadata": {
        "colab": {
          "base_uri": "https://localhost:8080/",
          "height": 34
        },
        "id": "oDs8vMPyJZEB",
        "outputId": "d7313289-c98a-4832-f94d-26716b21e023"
      },
      "execution_count": null,
      "outputs": [
        {
          "output_type": "execute_result",
          "data": {
            "text/plain": [
              "'A'"
            ],
            "application/vnd.google.colaboratory.intrinsic+json": {
              "type": "string"
            }
          },
          "metadata": {},
          "execution_count": 2
        }
      ]
    },
    {
      "cell_type": "code",
      "source": [
        "ord('a')-ord('A')"
      ],
      "metadata": {
        "colab": {
          "base_uri": "https://localhost:8080/"
        },
        "id": "Qxx-7cf8JhMF",
        "outputId": "7a6e59b3-175c-415a-ba7d-38210ac6be43"
      },
      "execution_count": null,
      "outputs": [
        {
          "output_type": "execute_result",
          "data": {
            "text/plain": [
              "32"
            ]
          },
          "metadata": {},
          "execution_count": 3
        }
      ]
    },
    {
      "cell_type": "code",
      "source": [
        "ord('b')-ord('B')"
      ],
      "metadata": {
        "colab": {
          "base_uri": "https://localhost:8080/"
        },
        "id": "434scuFVJncw",
        "outputId": "13f894d0-9197-4d58-f45e-4c034f53bb4e"
      },
      "execution_count": null,
      "outputs": [
        {
          "output_type": "execute_result",
          "data": {
            "text/plain": [
              "32"
            ]
          },
          "metadata": {},
          "execution_count": 4
        }
      ]
    },
    {
      "cell_type": "code",
      "source": [
        "\"a\".upper()"
      ],
      "metadata": {
        "colab": {
          "base_uri": "https://localhost:8080/",
          "height": 34
        },
        "id": "tjvYumTwJxXt",
        "outputId": "f02b441a-466f-494d-c5d2-7c989e99498e"
      },
      "execution_count": null,
      "outputs": [
        {
          "output_type": "execute_result",
          "data": {
            "text/plain": [
              "'A'"
            ],
            "application/vnd.google.colaboratory.intrinsic+json": {
              "type": "string"
            }
          },
          "metadata": {},
          "execution_count": 5
        }
      ]
    },
    {
      "cell_type": "code",
      "source": [
        "chr(ord('A')+32)"
      ],
      "metadata": {
        "colab": {
          "base_uri": "https://localhost:8080/",
          "height": 34
        },
        "id": "YiWOgY0tJ4vi",
        "outputId": "f253415e-3e13-4a6c-a369-9bcb83c711e7"
      },
      "execution_count": null,
      "outputs": [
        {
          "output_type": "execute_result",
          "data": {
            "text/plain": [
              "'a'"
            ],
            "application/vnd.google.colaboratory.intrinsic+json": {
              "type": "string"
            }
          },
          "metadata": {},
          "execution_count": 7
        }
      ]
    },
    {
      "cell_type": "code",
      "source": [
        "\"A\".lower()"
      ],
      "metadata": {
        "colab": {
          "base_uri": "https://localhost:8080/",
          "height": 34
        },
        "id": "xusL1aSSJ0Cc",
        "outputId": "d56a4b03-b1d6-4f5a-91cd-a7411a2aa7c6"
      },
      "execution_count": null,
      "outputs": [
        {
          "output_type": "execute_result",
          "data": {
            "text/plain": [
              "'a'"
            ],
            "application/vnd.google.colaboratory.intrinsic+json": {
              "type": "string"
            }
          },
          "metadata": {},
          "execution_count": 6
        }
      ]
    },
    {
      "cell_type": "markdown",
      "source": [
        "---\n",
        "# EJERCICIOS"
      ],
      "metadata": {
        "id": "AEl5liWjYdLJ"
      }
    },
    {
      "cell_type": "markdown",
      "metadata": {
        "id": "6BFY9APRbR0K"
      },
      "source": [
        "## EJERCICIO 1: Rotación de una letra minuscula\n"
      ]
    },
    {
      "cell_type": "markdown",
      "source": [
        "Dada la codificación, para hacer una rotación de una letra en 13 posiciones, basta con traducirla a un número, aumentar ese número en 13, restarle 26 si es demasiado grande, y traducirla de vuelta al carácter correspondiente. Corrige la implementación siguiente:"
      ],
      "metadata": {
        "id": "_A4AGFZYZrTh"
      }
    },
    {
      "cell_type": "code",
      "source": [
        "def rotacion_letra_minuscula(char):\n",
        "        \"\"\"Codigo ingenuo para hacer girar de 13 posiciones una letra minuscula a dentro de un alfabeto de tamaño 26.\"\"\"\n",
        "        return char # Eso es definitivamente incorrecto!\n",
        "\n",
        "assert rotacion_letra_minuscula('a') == 'n'\n",
        "assert rotacion_letra_minuscula('n') == 'a'"
      ],
      "metadata": {
        "id": "_jHLsiNpaTEu"
      },
      "execution_count": null,
      "outputs": []
    },
    {
      "cell_type": "markdown",
      "source": [
        "### EJEMPLO DE SOLUCIÓN"
      ],
      "metadata": {
        "id": "ZOjp1f2JZtTl"
      }
    },
    {
      "cell_type": "code",
      "metadata": {
        "id": "7l9rjkxobzqm"
      },
      "source": [
        "def rotacion_letra_minuscula(char):\n",
        "        \"\"\"Codigo ingenuo para hacer girar de 13 posiciones una letra minuscula a dentro de un alfabeto de tamaño 26.\"\"\"\n",
        "        rank = ord(char) - ord('a')\n",
        "        shiftedRank = rank + 13 \n",
        "        newOrd = shiftedRank + ord('a')\n",
        "        if newOrd > ord('z'):\n",
        "            newOrd = newOrd - 26\n",
        "        return chr(newOrd)\n",
        "\n",
        "assert rotacion_letra_minuscula('a') == 'n'\n",
        "assert rotacion_letra_minuscula('n') == 'a'"
      ],
      "execution_count": null,
      "outputs": []
    },
    {
      "cell_type": "markdown",
      "metadata": {
        "id": "UgCwryS_1UvV"
      },
      "source": [
        "## EJERCICIO 2: Manejo de otros simbolos"
      ]
    },
    {
      "cell_type": "markdown",
      "metadata": {
        "id": "eihSgIY0cyVY"
      },
      "source": [
        " Los caracteres que **no** son alfabéticos quedan sin cambio. Para considerar esto y sólo codificar las letras minúsculas, debemos modificar el código anterior. Corrige la implementación siguiente:\n"
      ]
    },
    {
      "cell_type": "code",
      "source": [
        "def rotacion_letra(char):\n",
        "  return char # Eso es definitivamente incorrecto!\n",
        "\n",
        "assert rotacion_letra('!') == '!'\n",
        "assert rotacion_letra(' ') == ' '\n",
        "assert rotacion_letra('a') == 'n'"
      ],
      "metadata": {
        "id": "6Kvk8aL9ahXM"
      },
      "execution_count": null,
      "outputs": []
    },
    {
      "cell_type": "markdown",
      "source": [
        "### EJEMPLO DE SOLUCIÓN"
      ],
      "metadata": {
        "id": "yvYE2B-KaDQS"
      }
    },
    {
      "cell_type": "code",
      "metadata": {
        "id": "DLQfhqCKRycg"
      },
      "source": [
        "def rotacion_letra(char):\n",
        "    if ord(char)>=ord('a') and ord(char)<=ord('z'):\n",
        "        rank = ord(char) - ord('a')\n",
        "        shiftedRank = (rank + 13) % 26\n",
        "        newOrd = shiftedRank + ord('a')\n",
        "        return chr(newOrd)\n",
        "    else:\n",
        "        return char\n",
        "\n",
        "assert rotacion_letra('!') == '!'\n",
        "assert rotacion_letra(' ') == ' '\n",
        "assert rotacion_letra('a') == 'n'"
      ],
      "execution_count": null,
      "outputs": []
    },
    {
      "cell_type": "markdown",
      "metadata": {
        "id": "tCdEr3sodCPZ"
      },
      "source": [
        "## EJERCICIO 3: ROT 13 ITERATIVO (con `for`)\n",
        "\n"
      ]
    },
    {
      "cell_type": "markdown",
      "source": [
        "La función *rot13* (\"rotación de 13 letras\") toma como entrada una cadena de texto (p.ej. `abcd`) y entrega una cadena de texto en que a cada carácter alfabético se le ha sumado $13$ módulo $26$ (p.ej. `nopq`). Así, al aplicar por segunda vez la función *rot13*, uno vuelve a la cadena de texto original (p.ej. `abcd`). Esta transformación se aplica solo a los caracteres del alfabeto básico inglés. Los restantes caracteres, por ejemplo espaciado, números, puntuación, eñes, letras con acento, etc. no se modifican."
      ],
      "metadata": {
        "id": "1Sq3JtXMvchb"
      }
    },
    {
      "cell_type": "markdown",
      "source": [
        "Corrige y complemente la implementación INTERATIVA siguiente de `rot13`: "
      ],
      "metadata": {
        "id": "_fcYQfE6dCPa"
      }
    },
    {
      "cell_type": "code",
      "source": [
        "def rot13(string):\n",
        "  \"\"\"Toma de entrada una cadena de texto (p.ej. abcd), \n",
        "  entrega de vuelta la cadena de texto con cada carácter alfabético (sin cambiar el espaciado ni los números) \n",
        "  sumado por 13 modulo 26 (p.ej. nopq).\"\"\"\n",
        "  return string # Eso definitivamente no es correcto!\n",
        "\n",
        "\n",
        "assert rot13(\"abcd\") == \"nopq\", rot13(\"abcd\")\n",
        "assert rot13(\"nopq\") == \"abcd\", rot13(\"nopq\")\n",
        "assert rot13(\"abcd nopq\") == \"nopq abcd\""
      ],
      "metadata": {
        "id": "qQzpYPd4dCPa"
      },
      "execution_count": null,
      "outputs": []
    },
    {
      "cell_type": "markdown",
      "source": [
        "### EJEMPLO DE SOLUCIÓN"
      ],
      "metadata": {
        "id": "hY_qYLv8dCPb"
      }
    },
    {
      "cell_type": "code",
      "metadata": {
        "id": "5BEtICU1dCPc"
      },
      "source": [
        "def rot13(string):\n",
        "  \"\"\"Toma de entrada una cadena de texto (p.ej. abcd), \n",
        "  entrega de vuelta la cadena de texto con cada carácter alfabético (sin cambiar el espaciado ni los números) \n",
        "  sumado por 13 modulo 26 (p.ej. nopq).\"\"\"\n",
        "  texto_cifrado = \"\"\n",
        "  for c in string:\n",
        "    c_cifrado = rotacion_letra(c)\n",
        "    texto_cifrado += c_cifrado\n",
        "  return texto_cifrado\n",
        "  \n",
        "assert rot13(\"abcd\") == \"nopq\", rot13(\"abcd\")\n",
        "assert rot13(\"nopq\") == \"abcd\", rot13(\"nopq\")\n",
        "assert rot13(\"abcd nopq\") == \"nopq abcd\""
      ],
      "execution_count": null,
      "outputs": []
    },
    {
      "cell_type": "markdown",
      "metadata": {
        "id": "MwdDVJn9dp5f"
      },
      "source": [
        "## EJERCICIO 4: ROT 13 RECURSIVA\n",
        "\n"
      ]
    },
    {
      "cell_type": "markdown",
      "source": [
        "Corrige y complemente la implementación RECURSIVA siguiente de `rot13`: "
      ],
      "metadata": {
        "id": "UqV-D9nMa79k"
      }
    },
    {
      "cell_type": "code",
      "source": [
        "def rot13(string):\n",
        "  \"\"\"Toma de entrada una cadena de texto (p.ej. abcd), \n",
        "  entrega de vuelta la cadena de texto con cada carácter alfabético (sin cambiar el espaciado ni los números) \n",
        "  sumado por 13 modulo 26 (p.ej. nopq).\"\"\"\n",
        "  return string # Eso definitivamente no es correcto!\n",
        "\n",
        "\n",
        "assert rot13(\"abcd\") == \"nopq\", rot13(\"abcd\")\n",
        "assert rot13(\"nopq\") == \"abcd\", rot13(\"nopq\")\n",
        "assert rot13(\"abcd nopq\") == \"nopq abcd\""
      ],
      "metadata": {
        "id": "0-0aXjPqa7eq"
      },
      "execution_count": null,
      "outputs": []
    },
    {
      "cell_type": "markdown",
      "source": [
        "### EJEMPLO DE SOLUCIÓN"
      ],
      "metadata": {
        "id": "_6Eadgt6a23h"
      }
    },
    {
      "cell_type": "code",
      "metadata": {
        "id": "NLImgq-ed2mT"
      },
      "source": [
        "def rot13(string):\n",
        "  \"\"\"Toma de entrada una cadena de texto (p.ej. abcd), \n",
        "  entrega de vuelta la cadena de texto con cada carácter alfabético (sin cambiar el espaciado ni los números) \n",
        "  sumado por 13 modulo 26 (p.ej. nopq).\"\"\"\n",
        "  if len(string)==0:\n",
        "      return string\n",
        "  else:\n",
        "    char = string[0]\n",
        "    rotatedChar = rotacion_letra(char)\n",
        "    return rotatedChar+rot13(string[1:])\n",
        "\n",
        "assert rot13(\"abcd\") == \"nopq\", rot13(\"abcd\")\n",
        "assert rot13(\"nopq\") == \"abcd\", rot13(\"nopq\")\n",
        "assert rot13(\"abcd nopq\") == \"nopq abcd\""
      ],
      "execution_count": null,
      "outputs": []
    },
    {
      "cell_type": "markdown",
      "source": [
        "## EJERCICIO 5: Código CAESAR"
      ],
      "metadata": {
        "id": "PdZeX0JSmfv2"
      }
    },
    {
      "cell_type": "markdown",
      "source": [
        "El codigo 'CAESAR' generaliza el codigo `ROT13`, girando las letras por un valor `clave` modulo el tamaño del alfabeto. Corrige y complete la implementación abajo (de manera recursiva o iterativa, a su elección): "
      ],
      "metadata": {
        "id": "sn5Pv7ajm4CM"
      }
    },
    {
      "cell_type": "code",
      "source": [
        "def rotacion_letra(char,clave=13):\n",
        "  return char # Obviamente incorrecto\n",
        "\n",
        "assert rotacion_letra('!') == '!'\n",
        "assert rotacion_letra(' ') == ' '\n",
        "assert rotacion_letra('a') == 'n'\n",
        "assert rotacion_letra('!',1) == '!'\n",
        "assert rotacion_letra(' ',1) == ' '\n",
        "assert rotacion_letra('a',1) == 'b'\n",
        "assert rotacion_letra('z',1) == 'a'"
      ],
      "metadata": {
        "id": "Im7d3Qb_n9xz"
      },
      "execution_count": null,
      "outputs": []
    },
    {
      "cell_type": "code",
      "source": [
        "def caesar(string,clave=13):\n",
        "  return string # Obviamente Incorrecto\n",
        "\n",
        "assert caesar(\"\") == \"\"\n",
        "assert caesar(\"abcd\") == \"nopq\"\n",
        "assert caesar(\"nopq\") == \"abcd\"\n",
        "assert caesar(\"abcd nopq\") == \"nopq abcd\"\n",
        "\n",
        "assert caesar(\"abcd\",1) == \"bcde\"\n",
        "assert caesar(\"nopq\",1) == \"opqr\"\n"
      ],
      "metadata": {
        "id": "LZh_CCHyoAt5"
      },
      "execution_count": null,
      "outputs": []
    },
    {
      "cell_type": "markdown",
      "source": [
        "### EJEMPLOS DE SOLUCIONES"
      ],
      "metadata": {
        "id": "wfiBDNxDm4QO"
      }
    },
    {
      "cell_type": "markdown",
      "source": [
        "#### Solucion basica\n"
      ],
      "metadata": {
        "id": "NpD3FQkXpfMl"
      }
    },
    {
      "cell_type": "code",
      "source": [
        "def rotacion_letra(char,clave=13):\n",
        "    if ord(char)>=ord('a') and ord(char)<=ord('z'):\n",
        "        rank = ord(char) - ord('a')\n",
        "        shiftedRank = (rank + clave) % 26\n",
        "        newOrd = shiftedRank + ord('a')\n",
        "        return chr(newOrd)\n",
        "    else:\n",
        "        return char\n",
        "\n",
        "assert rotacion_letra('!') == '!'\n",
        "assert rotacion_letra(' ') == ' '\n",
        "assert rotacion_letra('a') == 'n'\n",
        "assert rotacion_letra('!',1) == '!'\n",
        "assert rotacion_letra(' ',1) == ' '\n",
        "assert rotacion_letra('a',1) == 'b'\n",
        "assert rotacion_letra('z',1) == 'a'"
      ],
      "metadata": {
        "id": "oQlW31n2prh9"
      },
      "execution_count": null,
      "outputs": []
    },
    {
      "cell_type": "code",
      "source": [
        "def caesar(string,clave=13):\n",
        "  if len(string)==0:\n",
        "      return string\n",
        "  else:\n",
        "    char = string[0]\n",
        "    rotatedChar = rotacion_letra(char,clave)\n",
        "    return rotatedChar+caesar(string[1:],clave)\n",
        "\n",
        "assert caesar(\"\") == \"\"\n",
        "assert caesar(\"abcd\") == \"nopq\"\n",
        "assert caesar(\"nopq\") == \"abcd\"\n",
        "assert caesar(\"abcd nopq\") == \"nopq abcd\"\n",
        "\n",
        "assert caesar(\"abcd\",1) == \"bcde\"\n",
        "assert caesar(\"nopq\",1) == \"opqr\"\n",
        "\n",
        "assert caesar(\"nopq\",1) == \"opqr\"\n",
        "assert caesar(\"nopq\",'a') == \"opqr\""
      ],
      "metadata": {
        "id": "6k4YuT8Vp9yd"
      },
      "execution_count": null,
      "outputs": []
    },
    {
      "cell_type": "markdown",
      "source": [
        "#### Solucion rotando letras majusculas tambien"
      ],
      "metadata": {
        "id": "jjt_NrTspsGu"
      }
    },
    {
      "cell_type": "code",
      "source": [
        "def rotacion_letra(char,clave=13):\n",
        "    if ord(char)>=ord('a') and ord(char)<=ord('z'):\n",
        "        rank = ord(char) - ord('a')\n",
        "        shiftedRank = (rank + clave) % 26\n",
        "        newOrd = shiftedRank + ord('a')\n",
        "        return chr(newOrd)\n",
        "    elif ord(char)>=ord('A') and ord(char)<=ord('Z'):\n",
        "        rank = ord(char) - ord('A')\n",
        "        shiftedRank = (rank + clave) % 26\n",
        "        newOrd = shiftedRank + ord('A')\n",
        "        return chr(newOrd)\n",
        "    else:\n",
        "        return char\n",
        "\n",
        "assert rotacion_letra('!') == '!'\n",
        "assert rotacion_letra(' ') == ' '\n",
        "assert rotacion_letra('a') == 'n'\n",
        "assert rotacion_letra('!',1) == '!'\n",
        "assert rotacion_letra(' ',1) == ' '\n",
        "assert rotacion_letra('A',1) == 'B'\n",
        "assert rotacion_letra('Z',1) == 'A'"
      ],
      "metadata": {
        "id": "UP3czH2opmGt"
      },
      "execution_count": null,
      "outputs": []
    },
    {
      "cell_type": "code",
      "source": [
        "def caesar(string,clave=13):\n",
        "  if len(string)==0:\n",
        "      return string\n",
        "  else:\n",
        "    char = string[0]\n",
        "    rotatedChar = rotacion_letra(char,clave)\n",
        "    return rotatedChar+caesar(string[1:],clave)\n",
        "\n",
        "assert caesar(\"\") == \"\"\n",
        "assert caesar(\"ABCD\") == \"NOPQ\"\n",
        "assert caesar(\"nopq\") == \"abcd\"\n",
        "assert caesar(\"abcd nopq\") == \"nopq abcd\"\n",
        "\n",
        "assert caesar(\"abcd\",1) == \"bcde\"\n",
        "assert caesar(\"nopq\",1) == \"opqr\"\n",
        "\n",
        "assert caesar(\"nopq\",1) == \"opqr\""
      ],
      "metadata": {
        "id": "2KmmErKFp_Ae"
      },
      "execution_count": null,
      "outputs": []
    },
    {
      "cell_type": "markdown",
      "source": [
        "#### Solucion admitiendo letras tambien como claves"
      ],
      "metadata": {
        "id": "Tvfi6aGFph3-"
      }
    },
    {
      "cell_type": "code",
      "source": [
        "def rotacion_letra(char,clave=13):\n",
        "    if type(clave) == str:\n",
        "      clave = ord(clave[0].lower())-ord('a')+1\n",
        "\n",
        "    if ord(char)>=ord('a') and ord(char)<=ord('z'):\n",
        "        rank = ord(char) - ord('a')\n",
        "        shiftedRank = (rank + clave) % 26\n",
        "        newOrd = shiftedRank + ord('a')\n",
        "        return chr(newOrd)\n",
        "    elif ord(char)>=ord('A') and ord(char)<=ord('Z'):\n",
        "        rank = ord(char) - ord('A')\n",
        "        shiftedRank = (rank + clave) % 26\n",
        "        newOrd = shiftedRank + ord('A')\n",
        "        return chr(newOrd)\n",
        "    else:\n",
        "        return char\n",
        "\n",
        "assert rotacion_letra('!') == '!'\n",
        "assert rotacion_letra(' ') == ' '\n",
        "assert rotacion_letra('a') == 'n'\n",
        "assert rotacion_letra('!',1) == '!'\n",
        "assert rotacion_letra(' ',1) == ' '\n",
        "assert rotacion_letra('a',1) == 'b'\n",
        "assert rotacion_letra('z',1) == 'a'\n",
        "\n",
        "assert rotacion_letra('z','a') == 'a'\n",
        "assert rotacion_letra('z','A') == 'a'"
      ],
      "metadata": {
        "id": "dQK3edAJnMB1"
      },
      "execution_count": null,
      "outputs": []
    },
    {
      "cell_type": "code",
      "metadata": {
        "id": "604XOzetm4QP"
      },
      "source": [
        "def caesar(string,clave=13):\n",
        "  if len(string)==0:\n",
        "      return string\n",
        "  else:\n",
        "    char = string[0]\n",
        "    rotatedChar = rotacion_letra(char,clave)\n",
        "    return rotatedChar+caesar(string[1:],clave)\n",
        "\n",
        "assert caesar(\"\") == \"\"\n",
        "assert caesar(\"ABCD\") == \"NOPQ\"\n",
        "assert caesar(\"nopq\") == \"abcd\"\n",
        "assert caesar(\"abcd nopq\") == \"nopq abcd\"\n",
        "\n",
        "assert caesar(\"abcd\",1) == \"bcde\"\n",
        "assert caesar(\"nopq\",1) == \"opqr\"\n",
        "\n",
        "assert caesar(\"nopq\",1) == \"opqr\"\n",
        "assert caesar(\"nopq\",'a') == \"opqr\""
      ],
      "execution_count": null,
      "outputs": []
    },
    {
      "cell_type": "markdown",
      "source": [
        "## EJERCICIO 6: Código Biblia"
      ],
      "metadata": {
        "id": "BzqLJTY2mqMo"
      }
    },
    {
      "cell_type": "markdown",
      "source": [
        "El codigo 'BIBLIA' generaliza el codigo `CAESAR`, girando cada letra por un valor `clave` distinta, dado como una secuencia. Corrige y complete la implementación abajo (de manera recursiva o iterativa, a su elección): "
      ],
      "metadata": {
        "id": "Hzf2XWwHqbxe"
      }
    },
    {
      "cell_type": "code",
      "source": [
        "def biblia(string,claves=[13,13]):\n",
        "  if len(string)==0 or len(claves)==0:\n",
        "    return string\n",
        "  else:\n",
        "    return string # Obviamente a corregir\n",
        "\n",
        "assert biblia(\"aaaa\",[1,2,3,4]) == \"bcde\""
      ],
      "metadata": {
        "id": "KPeEs82wtJ-a"
      },
      "execution_count": null,
      "outputs": []
    },
    {
      "cell_type": "markdown",
      "source": [
        "### EJEMPLOS DE SOLUCIONES"
      ],
      "metadata": {
        "id": "DzH1NZklqy0y"
      }
    },
    {
      "cell_type": "markdown",
      "source": [
        "Usando la misma funcion de rotacion previa:"
      ],
      "metadata": {
        "id": "3D-ew2mAq37x"
      }
    },
    {
      "cell_type": "code",
      "source": [
        "def rotacion_letra(char,clave=13):\n",
        "    if type(clave) == str:\n",
        "      clave = ord(clave[0].lower())-ord('a')+1\n",
        "\n",
        "    if ord(char)>=ord('a') and ord(char)<=ord('z'):\n",
        "        rank = ord(char) - ord('a')\n",
        "        shiftedRank = (rank + clave) % 26\n",
        "        newOrd = shiftedRank + ord('a')\n",
        "        return chr(newOrd)\n",
        "    elif ord(char)>=ord('A') and ord(char)<=ord('Z'):\n",
        "        rank = ord(char) - ord('A')\n",
        "        shiftedRank = (rank + clave) % 26\n",
        "        newOrd = shiftedRank + ord('A')\n",
        "        return chr(newOrd)\n",
        "    else:\n",
        "        return char\n",
        "\n",
        "assert rotacion_letra('!') == '!'\n",
        "assert rotacion_letra(' ') == ' '\n",
        "assert rotacion_letra('a') == 'n'\n",
        "assert rotacion_letra('!',1) == '!'\n",
        "assert rotacion_letra(' ',1) == ' '\n",
        "assert rotacion_letra('a',1) == 'b'\n",
        "assert rotacion_letra('z',1) == 'a'\n",
        "\n",
        "assert rotacion_letra('z','a') == 'a'\n",
        "assert rotacion_letra('z','A') == 'a'"
      ],
      "metadata": {
        "id": "MYjjbr34q1u0"
      },
      "execution_count": null,
      "outputs": []
    },
    {
      "cell_type": "markdown",
      "source": [
        "Podemos programar el codigo biblia con una simple funcion recursiva:"
      ],
      "metadata": {
        "id": "Hvd8cj12tAmX"
      }
    },
    {
      "cell_type": "code",
      "source": [
        "def biblia(string,claves=[13,13]):\n",
        "  if len(string)==0 or len(claves)==0:\n",
        "    return string\n",
        "  else:\n",
        "    char = string[0]\n",
        "    rotatedChar = rotacion_letra(char,claves[0])\n",
        "    rotated_claves = claves[1:]+claves[0:1]\n",
        "    return rotatedChar+biblia(string[1:],rotated_claves)\n",
        "\n",
        "assert biblia(\"\") == \"\"\n",
        "assert biblia(\"ABCD\") == \"NOPQ\"\n",
        "assert biblia(\"nopq\") == \"abcd\"\n",
        "assert biblia(\"abcd nopq\") == \"nopq abcd\"\n",
        "assert biblia(\"abcd\",[1]) == \"bcde\"\n",
        "assert biblia(\"nopq\",[1]) == \"opqr\"\n",
        "assert biblia(\"nopq\",[1]) == \"opqr\"\n",
        "assert biblia(\"nopq\",'a') == \"opqr\"\n",
        "\n",
        "assert biblia(\"aaaa\",[1,2,3,4]) == \"bcde\"\n",
        "assert biblia(\"aaaa\",\"abcd\") == \"bcde\""
      ],
      "metadata": {
        "id": "zJT5L5IEq9-6"
      },
      "execution_count": null,
      "outputs": []
    },
    {
      "cell_type": "markdown",
      "source": [],
      "metadata": {
        "id": "jCOZzr_3vjyB"
      }
    },
    {
      "cell_type": "markdown",
      "source": [
        "---\n",
        "# PARA LOS CURIOSOS\n",
        "\n"
      ],
      "metadata": {
        "id": "8d-lLRj7YghN"
      }
    },
    {
      "cell_type": "markdown",
      "source": [
        "## Aplicando dos veces `ROT13`"
      ],
      "metadata": {
        "id": "TtueJqiEbjWc"
      }
    },
    {
      "cell_type": "markdown",
      "metadata": {
        "id": "L3bxu2y4VkeB"
      },
      "source": [
        "\n",
        "Por ejemplo, dado el input `introduccion a la programacion`, el programa entrega el output `vagebqhppvba n yn cebtenznpvba`, y de vuelta \n",
        "`introduccion a la programacion` si se aplica una vez más:"
      ]
    },
    {
      "cell_type": "code",
      "metadata": {
        "id": "bUKD0fxzV19h",
        "colab": {
          "base_uri": "https://localhost:8080/"
        },
        "outputId": "5846c74a-3300-4d14-e6df-d56796f41297"
      },
      "source": [
        "string = \"amo este curso!\"\n",
        "print(\"The original string is `\"+string+\"`.\")\n",
        "cipher = rot13(string)\n",
        "print(\"The cipher string is `\"+cipher+\"`.\")\n",
        "decipher = rot13(cipher)\n",
        "print(\"The deciphered string is `\"+decipher+\"`.\")"
      ],
      "execution_count": null,
      "outputs": [
        {
          "output_type": "stream",
          "text": [
            "The original string is `amo este curso!`.\n",
            "The cipher string is `nzb rfgr phefb!`.\n",
            "The deciphered string is `amo este curso!`.\n"
          ],
          "name": "stdout"
        }
      ]
    },
    {
      "cell_type": "markdown",
      "metadata": {
        "id": "EWxqjRbf94EK"
      },
      "source": [
        "## Codificar y decodificar mensajes con su código en el foro o el Discord:"
      ]
    },
    {
      "cell_type": "markdown",
      "metadata": {
        "id": "qW8RBXbI8xzY"
      },
      "source": [
        "### Celda para codificar mensajes (usando su código)"
      ]
    },
    {
      "cell_type": "code",
      "metadata": {
        "colab": {
          "base_uri": "https://localhost:8080/"
        },
        "id": "v3O50PFl83Iw",
        "outputId": "2de85f05-1c16-4062-b037-80e0d18b55d2"
      },
      "source": [
        "mensaje = input(\"El mensaje que quiero poner en el foro: \\n\")\n",
        "print(\"El mensaje cifrado: \\n\"+rot13(mensaje))"
      ],
      "execution_count": null,
      "outputs": [
        {
          "output_type": "stream",
          "name": "stdout",
          "text": [
            "El mensaje que quiero poner en el foro: \n",
            "Ojo que es una varianta menor de ROT13 (por ejemplo, no gira las letras majusculas). Nos vemos el Martes!\n",
            "El mensaje cifrado: \n",
            "Owb dhr rf han inevnagn zrabe qr ROT13 (cbe rwrzcyb, ab tven ynf yrgenf znwhfphynf). Nbf irzbf ry Mnegrf!\n"
          ]
        }
      ]
    },
    {
      "cell_type": "markdown",
      "metadata": {
        "id": "6fHjDEoE9me8"
      },
      "source": [
        "### Celda para decodificar mensajes (usando su código)"
      ]
    },
    {
      "cell_type": "code",
      "metadata": {
        "id": "Z2YHfRwI9qhg",
        "colab": {
          "base_uri": "https://localhost:8080/"
        },
        "outputId": "5c99dfba-d0ef-4a92-c56c-b9794a933ea6"
      },
      "source": [
        "cipher = input(\"Mensaje codificado: \\n\")\n",
        "print(\"Mensaje decifrado: \\n\"+rot13(cipher))"
      ],
      "execution_count": null,
      "outputs": [
        {
          "output_type": "stream",
          "name": "stdout",
          "text": [
            "Mensaje codificado: \n",
            "Fv ab shrfr cbe Tbbtyr, shren qr oebzn uhovrfr crafnqb dhr ren ha ivehf b nytb nfí  Fnyhqbf cebsr l abf irzbf!    Cq. Rfgn vagrerfnagr rfgb qr ybf pvsenqbf wnwnw\n",
            "Mensaje decifrado: \n",
            "Fi no fuese por Toogle, fuera de broma hubiese pensado que era un virus o algo así  Faludos profe y nos vemos!    Cd. Rsta interesante esto de los cifrados jajaj\n"
          ]
        }
      ]
    },
    {
      "cell_type": "markdown",
      "metadata": {
        "id": "-OJeGvgI5te9"
      },
      "source": [
        "## Lo que simplificamos para la sesión activa:"
      ]
    },
    {
      "cell_type": "markdown",
      "metadata": {
        "id": "z2CbhGCB5w1L"
      },
      "source": [
        "Para hacer la sesión más sencilla, simplificamos algunos aspectos del problema considerado. Por ejemplo, la **restricción a letras minúsculas** es solamente con fines pedagógicos: es más agradable poder codificar letras mayúsculas y minúsculas, pero no agrega mucho al aprendizaje de diseño y análisis de algoritmos. Si se entusiasman con el proyecto y quieren aprender más *programación*, pueden extender su programa para que maneja las letras mayúsculas también. Por ejemplo, podrían \n",
        "  1. transformar las letras mayúsculas a minúsculas para que las letras mayúsculas no sean evidentes en el texto codificado; o\n",
        "  2. traducir implícitamente la permutación dada sobre las minúsculas y usar la misma permutación con las mayúsculas; \n",
        "  3. recibir permutaciones sobre una mezcla de letras minúsculas y mayúsculas.\n"
      ]
    },
    {
      "cell_type": "markdown",
      "metadata": {
        "id": "jzCRp_jQ92NN"
      },
      "source": [
        "## La relación con el código `Enigma` usado en la Segunda Guerra Mundial"
      ]
    },
    {
      "cell_type": "markdown",
      "metadata": {
        "id": "3yipqUo9VX_G"
      },
      "source": [
        "Los códigos por permutación (de cual rot13 es el caso mas simple) NO son una buena manera de codificar mensajes de manera secreta! Un simple análisis de frecuencia permite romperlo sin saber la permutación que se usó para encriptar. En la Segunda Guerra Mundial, los alemanes usaron un código llamado \"Enigma\" que rotaba entre varias permutaciones por cada símbolo del mensaje a codificar (y cambiaba de código cada día): eso lo hacía más robusto a ataques por análisis de las frecuencias de los caracteres, pero aun así no era totalmente seguro: Alan Turing y el equipo de Bletchey Park lo rompieron usando uno de los ancestros de los computadores de hoy, \"The Bombe\", para explorar muchos códigos posibles, y aprovechando además que podían adivinar el comienzo de algunos mensajes, como por ejemplo los que anunciaban la meteorología del día."
      ]
    }
  ]
}